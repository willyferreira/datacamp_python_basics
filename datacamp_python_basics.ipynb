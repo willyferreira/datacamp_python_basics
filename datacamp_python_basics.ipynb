{
 "cells": [
  {
   "cell_type": "markdown",
   "metadata": {},
   "source": [
    "### Accessing help and getting object types"
   ]
  },
  {
   "cell_type": "code",
   "execution_count": null,
   "metadata": {},
   "outputs": [],
   "source": [
    "1 + 1 # Comentário depois do #\n",
    "help(max) # Mostra a documentação para a função max\n",
    "type('a') # Mostra o tipo de um objeto - no caso, retorna str"
   ]
  },
  {
   "cell_type": "markdown",
   "metadata": {},
   "source": [
    "### Importing packages"
   ]
  },
  {
   "cell_type": "code",
   "execution_count": null,
   "metadata": {},
   "outputs": [],
   "source": [
    "import pandas #Importa o pacote do sistema\n",
    "import pandas as pd # Importa pacote com um alias (apelido)\n",
    "from pandas import DataFrame # Importa um objeto de um pacote"
   ]
  },
  {
   "cell_type": "markdown",
   "metadata": {},
   "source": [
    "### The working directory"
   ]
  },
  {
   "cell_type": "code",
   "execution_count": null,
   "metadata": {},
   "outputs": [],
   "source": [
    "import os # Importa o pacote do sistema\n",
    "os.getcwd() # Mostra o diretório atual\n",
    "os.setcwd('new/working/directory') # Define o diretório de trabalho para uma nova pasta"
   ]
  },
  {
   "cell_type": "markdown",
   "metadata": {},
   "source": [
    "### Operators"
   ]
  },
  {
   "cell_type": "markdown",
   "metadata": {},
   "source": [
    "#### Arithmetic operators"
   ]
  },
  {
   "cell_type": "code",
   "execution_count": null,
   "metadata": {},
   "outputs": [],
   "source": [
    "102 + 37 # Soma dois números com +\n",
    "102 - 37 # Subtrai dois números com -\n",
    "4 * 6 # Multiplica dois números  com *\n",
    "22 / 7 # Divide dois números com /\n",
    "22 // 7 # Divide dois números com // e retorna um resultado inteiro\n",
    "3 ^ 4 # Eleva à potência com ^\n",
    "22 % 7 #Retorna 1 # O valor depois da vírgula"
   ]
  },
  {
   "cell_type": "markdown",
   "metadata": {},
   "source": [
    "#### Assignment operators"
   ]
  },
  {
   "cell_type": "code",
   "execution_count": null,
   "metadata": {},
   "outputs": [],
   "source": [
    "a = 5 # Incluindo valor a uma variável\n",
    "x[0] = 1 #Alterando o valor de um item em uma lista"
   ]
  },
  {
   "cell_type": "markdown",
   "metadata": {},
   "source": [
    "#### Numeric comparison operators"
   ]
  },
  {
   "cell_type": "code",
   "execution_count": null,
   "metadata": {},
   "outputs": [],
   "source": [
    "3 == 3 # Testando igualdade com == \n",
    "3 != 3 # Testando desigualdade com !=\n",
    "3 > 1  # Testa se é maior com >\n",
    "3 >= 3 # Testa se é igual ou maior com >=\n",
    "3 < 4 # Testa se é menor com <\n",
    "3 <= 4 # Testa se é igual ou menor com <="
   ]
  },
  {
   "cell_type": "markdown",
   "metadata": {},
   "source": [
    "#### Logical operators"
   ]
  },
  {
   "cell_type": "code",
   "execution_count": null,
   "metadata": {},
   "outputs": [],
   "source": [
    "~(2 == 2)           # Logical NOT whit ~\n",
    "(1 != 1) & (1 < 1)  # Logical AND with &\n",
    "(1 >= 1) | (1 < 1)  # Logical OR with |\n",
    "(1 != 1) ^ (1 < 1)  # Logical XOR with ^ "
   ]
  },
  {
   "cell_type": "markdown",
   "metadata": {},
   "source": [
    "### Getting started with lists"
   ]
  },
  {
   "cell_type": "markdown",
   "metadata": {},
   "source": [
    "#### Creating lists"
   ]
  },
  {
   "cell_type": "code",
   "execution_count": 36,
   "metadata": {},
   "outputs": [],
   "source": [
    "# Criar listas com [], elementos separados com vírgulas\n",
    "x = [1, 2, 3]"
   ]
  },
  {
   "cell_type": "markdown",
   "metadata": {},
   "source": [
    "#### List functions and methods"
   ]
  },
  {
   "cell_type": "code",
   "execution_count": 43,
   "metadata": {},
   "outputs": [
    {
     "ename": "AttributeError",
     "evalue": "'list' object has no attribute 'reversed'",
     "output_type": "error",
     "traceback": [
      "\u001b[1;31m---------------------------------------------------------------------------\u001b[0m",
      "\u001b[1;31mAttributeError\u001b[0m                            Traceback (most recent call last)",
      "\u001b[1;32mc:\\Users\\Willy\\OneDrive - Cooperforte\\Python\\datacamp_python_basics\\datacamp_python_basics.ipynb Cell 20\u001b[0m line \u001b[0;36m4\n\u001b[0;32m      <a href='vscode-notebook-cell:/c%3A/Users/Willy/OneDrive%20-%20Cooperforte/Python/datacamp_python_basics/datacamp_python_basics.ipynb#X26sZmlsZQ%3D%3D?line=1'>2</a>\u001b[0m x\u001b[39m.\u001b[39msort()\n\u001b[0;32m      <a href='vscode-notebook-cell:/c%3A/Users/Willy/OneDrive%20-%20Cooperforte/Python/datacamp_python_basics/datacamp_python_basics.ipynb#X26sZmlsZQ%3D%3D?line=2'>3</a>\u001b[0m \u001b[39mreversed\u001b[39m(x)\n\u001b[1;32m----> <a href='vscode-notebook-cell:/c%3A/Users/Willy/OneDrive%20-%20Cooperforte/Python/datacamp_python_basics/datacamp_python_basics.ipynb#X26sZmlsZQ%3D%3D?line=3'>4</a>\u001b[0m x\u001b[39m.\u001b[39;49mreversed()\n\u001b[0;32m      <a href='vscode-notebook-cell:/c%3A/Users/Willy/OneDrive%20-%20Cooperforte/Python/datacamp_python_basics/datacamp_python_basics.ipynb#X26sZmlsZQ%3D%3D?line=4'>5</a>\u001b[0m x\u001b[39m.\u001b[39mcount(\u001b[39m2\u001b[39m)\n",
      "\u001b[1;31mAttributeError\u001b[0m: 'list' object has no attribute 'reversed'"
     ]
    }
   ],
   "source": [
    "x.sorted(x)\n",
    "x.sort()\n",
    "reversed(x)\n",
    "x.reversed()\n",
    "x.count(2)"
   ]
  }
 ],
 "metadata": {
  "kernelspec": {
   "display_name": "Python 3",
   "language": "python",
   "name": "python3"
  },
  "language_info": {
   "codemirror_mode": {
    "name": "ipython",
    "version": 3
   },
   "file_extension": ".py",
   "mimetype": "text/x-python",
   "name": "python",
   "nbconvert_exporter": "python",
   "pygments_lexer": "ipython3",
   "version": "3.11.1"
  },
  "orig_nbformat": 4
 },
 "nbformat": 4,
 "nbformat_minor": 2
}
